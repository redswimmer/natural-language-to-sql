{
  "nbformat": 4,
  "nbformat_minor": 0,
  "metadata": {
    "colab": {
      "provenance": [],
      "toc_visible": true,
      "authorship_tag": "ABX9TyO2mGyUuXoNLIZYgB5Dl11j",
      "include_colab_link": true
    },
    "kernelspec": {
      "name": "python3",
      "display_name": "Python 3"
    },
    "language_info": {
      "name": "python"
    }
  },
  "cells": [
    {
      "cell_type": "markdown",
      "metadata": {
        "id": "view-in-github",
        "colab_type": "text"
      },
      "source": [
        "<a href=\"https://colab.research.google.com/github/redswimmer/natural-language-to-sql/blob/main/Natural_Language_to_SQL.ipynb\" target=\"_parent\"><img src=\"https://colab.research.google.com/assets/colab-badge.svg\" alt=\"Open In Colab\"/></a>"
      ]
    },
    {
      "cell_type": "markdown",
      "source": [
        "# Natural Language to SQL Demo"
      ],
      "metadata": {
        "id": "k4pPwrdzzUbV"
      }
    },
    {
      "cell_type": "markdown",
      "source": [
        "This example demonstrates how to query our SQL database using natural language by leveraging the LLM OpenAI and [LlamaIndex](https://www.llamaindex.ai/).  It was adapted from [this example by Jerry Liu](https://docs.llamaindex.ai/en/stable/examples/index_structs/struct_indices/SQLIndexDemo.html) to add support for multiple tables and foreign keys."
      ],
      "metadata": {
        "id": "QtTslrOWzPb1"
      }
    },
    {
      "cell_type": "markdown",
      "source": [
        "### Demo Video\n",
        "\n",
        "I recorded a [demo video here](https://www.loom.com/share/1aa2b1f582784127bcb49f432c867818?sid=bdf2e506-0be2-4a6e-87e3-37ef6d6435d4) if you don't feel like reading the code."
      ],
      "metadata": {
        "id": "hzoHq2lkSr0I"
      }
    },
    {
      "cell_type": "markdown",
      "source": [
        "## Setup"
      ],
      "metadata": {
        "id": "w6byyS6HmO3H"
      }
    },
    {
      "cell_type": "markdown",
      "source": [
        "Install dependencies"
      ],
      "metadata": {
        "id": "FxqYlVlWHffQ"
      }
    },
    {
      "cell_type": "code",
      "execution_count": null,
      "metadata": {
        "id": "OCpWShssmEP6"
      },
      "outputs": [],
      "source": [
        "!pip install llama-index"
      ]
    },
    {
      "cell_type": "code",
      "source": [
        "import os\n",
        "import openai"
      ],
      "metadata": {
        "id": "QVjINoqbmS0S"
      },
      "execution_count": 138,
      "outputs": []
    },
    {
      "cell_type": "code",
      "source": [
        "import os\n",
        "from google.colab import userdata\n",
        "\n",
        "os.environ[\"OPENAI_API_KEY\"] = userdata.get('OPENAI_API_KEY')\n",
        "openai.api_key = os.environ[\"OPENAI_API_KEY\"]"
      ],
      "metadata": {
        "id": "IPJhhO9Ameey"
      },
      "execution_count": 139,
      "outputs": []
    },
    {
      "cell_type": "code",
      "source": [
        "import logging\n",
        "import sys\n",
        "\n",
        "logging.basicConfig(stream=sys.stdout, level=logging.ERROR, force=True)\n",
        "logging.getLogger().addHandler(logging.StreamHandler(stream=sys.stdout))"
      ],
      "metadata": {
        "id": "Wy1kO4FOmh-3"
      },
      "execution_count": 140,
      "outputs": []
    },
    {
      "cell_type": "code",
      "source": [
        "from IPython.display import Markdown, display"
      ],
      "metadata": {
        "id": "Eza5ZinYmkft"
      },
      "execution_count": 141,
      "outputs": []
    },
    {
      "cell_type": "markdown",
      "source": [
        "## Create Database Schema"
      ],
      "metadata": {
        "id": "1IlCq-EEmmpW"
      }
    },
    {
      "cell_type": "markdown",
      "source": [
        "Create our database using SQLAlchemy"
      ],
      "metadata": {
        "id": "lcKquE0gHlHc"
      }
    },
    {
      "cell_type": "code",
      "source": [
        "from sqlalchemy import (\n",
        "    create_engine,\n",
        "    MetaData,\n",
        "    Table,\n",
        "    Column,\n",
        "    String,\n",
        "    Integer,\n",
        "    select,\n",
        "    ForeignKey,\n",
        ")"
      ],
      "metadata": {
        "id": "5VQKKlhRyH-e"
      },
      "execution_count": 142,
      "outputs": []
    },
    {
      "cell_type": "code",
      "source": [
        "engine = create_engine(\"sqlite:///:memory:\")\n",
        "metadata_obj = MetaData()"
      ],
      "metadata": {
        "id": "ArBP7CBUyIrH"
      },
      "execution_count": 143,
      "outputs": []
    },
    {
      "cell_type": "markdown",
      "source": [
        "One table will store population details about cities and the other will store the mayor for each city."
      ],
      "metadata": {
        "id": "D1EwcnooIFBF"
      }
    },
    {
      "cell_type": "code",
      "source": [
        "# create city stats SQL table\n",
        "table_name = \"city_stats\"\n",
        "city_stats_table = Table(\n",
        "    table_name,\n",
        "    metadata_obj,\n",
        "    Column(\"city_id\", Integer, primary_key=True),\n",
        "    Column(\"city_name\", String(32)),\n",
        "    Column(\"population\", Integer),\n",
        "    Column(\"country\", String(32), nullable=False),\n",
        ")\n",
        "\n",
        "# create city mayor SQL table\n",
        "table_name = \"city_mayor\"\n",
        "city_mayor_table = Table(\n",
        "    table_name,\n",
        "    metadata_obj,\n",
        "    Column(\"mayor_id\", Integer, primary_key=True),\n",
        "    Column(\"city_id\", Integer, ForeignKey('city_stats.city_id')),\n",
        "    Column(\"mayor_name\", String(64), nullable=False),\n",
        ")\n",
        "metadata_obj.create_all(engine)"
      ],
      "metadata": {
        "id": "o6xI5H7JyMBr"
      },
      "execution_count": 144,
      "outputs": []
    },
    {
      "cell_type": "markdown",
      "source": [
        "## Define SQL Database"
      ],
      "metadata": {
        "id": "2TFcR2TByTSp"
      }
    },
    {
      "cell_type": "code",
      "source": [
        "from llama_index import SQLDatabase, ServiceContext\n",
        "from llama_index.llms import OpenAI\n",
        "from sqlalchemy import insert"
      ],
      "metadata": {
        "id": "Bqf7PTosyZ4W"
      },
      "execution_count": 145,
      "outputs": []
    },
    {
      "cell_type": "code",
      "source": [
        "llm = OpenAI(temperature=0.1, model=\"gpt-3.5-turbo\")\n",
        "service_context = ServiceContext.from_defaults(llm=llm)"
      ],
      "metadata": {
        "id": "ml0xnvfVycF1"
      },
      "execution_count": 146,
      "outputs": []
    },
    {
      "cell_type": "code",
      "source": [
        "sql_database = SQLDatabase(engine, include_tables=[\"city_stats\", \"city_mayor\"])"
      ],
      "metadata": {
        "id": "1tB1WmSYyd6h"
      },
      "execution_count": 147,
      "outputs": []
    },
    {
      "cell_type": "markdown",
      "source": [
        "Populate tables with test data."
      ],
      "metadata": {
        "id": "L1O-v-h-Ic99"
      }
    },
    {
      "cell_type": "code",
      "source": [
        "rows = [\n",
        "    {\"city_name\": \"Toronto\", \"population\": 2930000, \"country\": \"Canada\"},\n",
        "    {\"city_name\": \"Tokyo\", \"population\": 13960000, \"country\": \"Japan\"},\n",
        "    {\"city_name\": \"Chicago\", \"population\": 2679000, \"country\": \"United States\"},\n",
        "    {\"city_name\": \"Seoul\", \"population\": 9776000, \"country\": \"South Korea\"},\n",
        "]\n",
        "for row in rows:\n",
        "    stmt = insert(city_stats_table).values(**row)\n",
        "    with engine.begin() as connection:\n",
        "        cursor = connection.execute(stmt)"
      ],
      "metadata": {
        "id": "WTinon2FygEs"
      },
      "execution_count": 148,
      "outputs": []
    },
    {
      "cell_type": "code",
      "source": [
        "rows = [\n",
        "    {\"city_id\": 1, \"mayor_name\": \"Jim Bob\"},\n",
        "    {\"city_id\": 2, \"mayor_name\": \"Mary Smith\"},\n",
        "    {\"city_id\": 3, \"mayor_name\": \"Jimmy Johnson\"},\n",
        "    {\"city_id\": 4, \"mayor_name\": \"Andrew Savala\"},\n",
        "]\n",
        "for row in rows:\n",
        "    stmt = insert(city_mayor_table).values(**row)\n",
        "    with engine.begin() as connection:\n",
        "        cursor = connection.execute(stmt)"
      ],
      "metadata": {
        "id": "hcAA-YgvrYHG"
      },
      "execution_count": 149,
      "outputs": []
    },
    {
      "cell_type": "code",
      "source": [
        "list(sql_database._all_tables)"
      ],
      "metadata": {
        "colab": {
          "base_uri": "https://localhost:8080/"
        },
        "id": "TNPNC8GlCGdN",
        "outputId": "412e4cf8-ca73-493f-e865-df2c989b11df"
      },
      "execution_count": 150,
      "outputs": [
        {
          "output_type": "execute_result",
          "data": {
            "text/plain": [
              "['city_stats', 'city_mayor']"
            ]
          },
          "metadata": {},
          "execution_count": 150
        }
      ]
    },
    {
      "cell_type": "markdown",
      "source": [
        "## Query Index"
      ],
      "metadata": {
        "id": "4-9whrIUyt2V"
      }
    },
    {
      "cell_type": "markdown",
      "source": [
        "Perform test queries to make sure we can retrive our test data."
      ],
      "metadata": {
        "id": "0FTQoh1sIqPv"
      }
    },
    {
      "cell_type": "code",
      "source": [
        "from sqlalchemy import text"
      ],
      "metadata": {
        "id": "D4rVa-x6D4UO"
      },
      "execution_count": 151,
      "outputs": []
    },
    {
      "cell_type": "code",
      "source": [
        "with engine.connect() as con:\n",
        "    rows = con.execute(text(\"SELECT * from city_stats\"))\n",
        "    for row in rows:\n",
        "        print(row)"
      ],
      "metadata": {
        "colab": {
          "base_uri": "https://localhost:8080/"
        },
        "id": "8NN30xeryw3m",
        "outputId": "02969420-9ab2-4696-e0c8-4e7decb5a45a"
      },
      "execution_count": 152,
      "outputs": [
        {
          "output_type": "stream",
          "name": "stdout",
          "text": [
            "(1, 'Toronto', 2930000, 'Canada')\n",
            "(2, 'Tokyo', 13960000, 'Japan')\n",
            "(3, 'Chicago', 2679000, 'United States')\n",
            "(4, 'Seoul', 9776000, 'South Korea')\n"
          ]
        }
      ]
    },
    {
      "cell_type": "code",
      "source": [
        "with engine.connect() as con:\n",
        "    rows = con.execute(text(\"SELECT * from city_mayor\"))\n",
        "    for row in rows:\n",
        "        print(row)"
      ],
      "metadata": {
        "colab": {
          "base_uri": "https://localhost:8080/"
        },
        "id": "yACWUi4tD6ae",
        "outputId": "05ba3137-2d55-4b76-80eb-ef4f58d96f18"
      },
      "execution_count": 153,
      "outputs": [
        {
          "output_type": "stream",
          "name": "stdout",
          "text": [
            "(1, 1, 'Jim Bob')\n",
            "(2, 2, 'Mary Smith')\n",
            "(3, 3, 'Jimmy Johnson')\n",
            "(4, 4, 'Andrew Savala')\n"
          ]
        }
      ]
    },
    {
      "cell_type": "markdown",
      "source": [
        "## Part 1: Text-to-SQL Query Engine"
      ],
      "metadata": {
        "id": "73v1orUay2_E"
      }
    },
    {
      "cell_type": "markdown",
      "source": [
        "Once we have constructed our SQL database, we can use the NLSQLTableQueryEngine to construct natural language queries that are synthesized into SQL queries.\n",
        "\n",
        "Note that we need to specify the tables we want to use with this query engine. If we don’t the query engine will pull all the schema context, which could overflow the context window of the LLM."
      ],
      "metadata": {
        "id": "PsbDQ07rzn9h"
      }
    },
    {
      "cell_type": "code",
      "source": [
        "from llama_index.indices.struct_store.sql_query import NLSQLTableQueryEngine\n",
        "\n",
        "query_engine = NLSQLTableQueryEngine(\n",
        "    sql_database=sql_database,\n",
        "    tables=[\"city_stats\", \"city_mayor\"],\n",
        ")"
      ],
      "metadata": {
        "id": "RnRC2j3xz53a"
      },
      "execution_count": 154,
      "outputs": []
    },
    {
      "cell_type": "code",
      "source": [
        "query_str = \"Which city has the highest population?\"\n",
        "response = query_engine.query(query_str)\n",
        "display(Markdown(f\"<b>{response}</b>\"))"
      ],
      "metadata": {
        "colab": {
          "base_uri": "https://localhost:8080/",
          "height": 46
        },
        "id": "Mf8ZiIkhzCsV",
        "outputId": "4182213f-0957-4529-fdac-95a7f7bf54df"
      },
      "execution_count": 155,
      "outputs": [
        {
          "output_type": "display_data",
          "data": {
            "text/plain": [
              "<IPython.core.display.Markdown object>"
            ],
            "text/markdown": "<b>The city with the highest population is Tokyo, with a population of 13,960,000.</b>"
          },
          "metadata": {}
        }
      ]
    },
    {
      "cell_type": "code",
      "source": [
        "query_str = \"Which cities have a mayor who's name contains the letter A?  Include the city and mayor name\"\n",
        "response = query_engine.query(query_str)\n",
        "display(Markdown(f\"<b>{response}</b>\"))"
      ],
      "metadata": {
        "colab": {
          "base_uri": "https://localhost:8080/",
          "height": 46
        },
        "id": "3doJz6PE0G4W",
        "outputId": "ae08236f-1b1b-439b-da62-b262bab688fd"
      },
      "execution_count": 156,
      "outputs": [
        {
          "output_type": "display_data",
          "data": {
            "text/plain": [
              "<IPython.core.display.Markdown object>"
            ],
            "text/markdown": "<b>The cities with mayors whose names contain the letter A are Tokyo, with mayor Mary Smith, and Seoul, with mayor Andrew Savala.</b>"
          },
          "metadata": {}
        }
      ]
    },
    {
      "cell_type": "markdown",
      "source": [
        "This query engine should be used in any case where you can specify the tables you want to query over beforehand, or the total size of all the table schema plus the rest of the prompt fits your context window."
      ],
      "metadata": {
        "id": "DoUeKM8HzrsV"
      }
    },
    {
      "cell_type": "markdown",
      "source": [
        "## Part 2: Query-Time Retrieval of Tables for Text-to-SQL"
      ],
      "metadata": {
        "id": "s3BCV1KUzkd8"
      }
    },
    {
      "cell_type": "markdown",
      "source": [
        "If we don’t know ahead of time which table we would like to use, and the total size of the table schema overflows your context window size, we should store the table schema in an index so that during query time we can retrieve the right schema.\n",
        "\n",
        "The way we can do this is using the SQLTableNodeMapping object, which takes in a SQLDatabase and produces a Node object for each SQLTableSchema object passed into the ObjectIndex constructor."
      ],
      "metadata": {
        "id": "S4obLNUYzwnq"
      }
    },
    {
      "cell_type": "code",
      "source": [
        "logging.basicConfig(stream=sys.stdout, level=logging.ERROR, force=True)\n",
        "from llama_index.indices.struct_store.sql_query import (\n",
        "    SQLTableRetrieverQueryEngine,\n",
        ")\n",
        "from llama_index.objects import (\n",
        "    SQLTableNodeMapping,\n",
        "    ObjectIndex,\n",
        "    SQLTableSchema,\n",
        ")\n",
        "from llama_index import VectorStoreIndex\n",
        "\n",
        "# manually set context text\n",
        "table_node_mapping = SQLTableNodeMapping(sql_database)\n",
        "table_schema_objs = [\n",
        "    (SQLTableSchema(table_name=\"city_stats\", context_str=\"This table gives information regarding the population and country of a given city.\")),\n",
        "    (SQLTableSchema(table_name=\"city_mayor\", context_str=\"This table gives information regarding the mayor of each city.\")),\n",
        "]\n",
        "\n",
        "obj_index = ObjectIndex.from_objects(\n",
        "    table_schema_objs,\n",
        "    table_node_mapping,\n",
        "    VectorStoreIndex,\n",
        ")\n",
        "query_engine = SQLTableRetrieverQueryEngine(\n",
        "    sql_database, obj_index.as_retriever(similarity_top_k=1)\n",
        ")"
      ],
      "metadata": {
        "id": "ogB_gxf21Blb"
      },
      "execution_count": 157,
      "outputs": []
    },
    {
      "cell_type": "code",
      "source": [
        "response = query_engine.query(\"Which city has the highest population?\")\n",
        "display(Markdown(f\"<b>{response}</b>\"))"
      ],
      "metadata": {
        "colab": {
          "base_uri": "https://localhost:8080/",
          "height": 46
        },
        "id": "PmRrOxK51DgG",
        "outputId": "67f3093f-ff88-4171-b9b8-6521b501cecc"
      },
      "execution_count": 158,
      "outputs": [
        {
          "output_type": "display_data",
          "data": {
            "text/plain": [
              "<IPython.core.display.Markdown object>"
            ],
            "text/markdown": "<b>The city with the highest population is Tokyo.</b>"
          },
          "metadata": {}
        }
      ]
    },
    {
      "cell_type": "code",
      "source": [
        "response = query_engine.query(\"Which cities have a mayor who's name contains the letter A.  Include the cities and the full mayor's name?\")\n",
        "display(Markdown(f\"<b>{response}</b>\"))"
      ],
      "metadata": {
        "colab": {
          "base_uri": "https://localhost:8080/",
          "height": 46
        },
        "id": "AU8V-cIu2eKN",
        "outputId": "b6d3e8fc-b795-4396-afdd-72b533d48872"
      },
      "execution_count": 159,
      "outputs": [
        {
          "output_type": "display_data",
          "data": {
            "text/plain": [
              "<IPython.core.display.Markdown object>"
            ],
            "text/markdown": "<b>The cities with mayors whose names contain the letter A are Seoul, with mayor Andrew Savala, and Tokyo, with mayor Mary Smith.</b>"
          },
          "metadata": {}
        }
      ]
    },
    {
      "cell_type": "markdown",
      "source": [
        "Lets try combining results from both tables"
      ],
      "metadata": {
        "id": "_1z0ro1t7Iqb"
      }
    },
    {
      "cell_type": "code",
      "source": [
        "response = query_engine.query(\"Which cities have a population greater than 3 million and mayor who's name contains the letter A.  Include the cities and the full mayor's name?\")\n",
        "display(Markdown(f\"<b>{response}</b>\"))"
      ],
      "metadata": {
        "colab": {
          "base_uri": "https://localhost:8080/",
          "height": 64
        },
        "id": "SC4Nc0Lu7MQa",
        "outputId": "5fc4e421-a1f9-4751-b17f-f11fa33a8f01"
      },
      "execution_count": 160,
      "outputs": [
        {
          "output_type": "display_data",
          "data": {
            "text/plain": [
              "<IPython.core.display.Markdown object>"
            ],
            "text/markdown": "<b>The cities with a population greater than 3 million and a mayor whose name contains the letter A are Seoul, with mayor Andrew Savala, and Tokyo, with mayor Mary Smith.</b>"
          },
          "metadata": {}
        }
      ]
    }
  ]
}