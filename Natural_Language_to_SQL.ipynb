{
  "nbformat": 4,
  "nbformat_minor": 0,
  "metadata": {
    "colab": {
      "provenance": [],
      "toc_visible": true,
      "authorship_tag": "ABX9TyP7oK6DhuTQrjBOIpwu/eIG",
      "include_colab_link": true
    },
    "kernelspec": {
      "name": "python3",
      "display_name": "Python 3"
    },
    "language_info": {
      "name": "python"
    }
  },
  "cells": [
    {
      "cell_type": "markdown",
      "metadata": {
        "id": "view-in-github",
        "colab_type": "text"
      },
      "source": [
        "<a href=\"https://colab.research.google.com/github/redswimmer/natural-language-to-sql/blob/main/Natural_Language_to_SQL.ipynb\" target=\"_parent\"><img src=\"https://colab.research.google.com/assets/colab-badge.svg\" alt=\"Open In Colab\"/></a>"
      ]
    },
    {
      "cell_type": "markdown",
      "source": [
        "# Natural Language to SQL Demo"
      ],
      "metadata": {
        "id": "k4pPwrdzzUbV"
      }
    },
    {
      "cell_type": "markdown",
      "source": [
        "This example demonstrates how to query our SQL database using natural language by leveraging the LLM OpenAI and [LlamaIndex](https://www.llamaindex.ai/).  It was adapted from [this example by Jerry Liu](https://docs.llamaindex.ai/en/stable/examples/index_structs/struct_indices/SQLIndexDemo.html) to add support for multiple tables and foreign keys."
      ],
      "metadata": {
        "id": "QtTslrOWzPb1"
      }
    },
    {
      "cell_type": "markdown",
      "source": [
        "## Setup"
      ],
      "metadata": {
        "id": "w6byyS6HmO3H"
      }
    },
    {
      "cell_type": "markdown",
      "source": [
        "Install dependencies"
      ],
      "metadata": {
        "id": "FxqYlVlWHffQ"
      }
    },
    {
      "cell_type": "code",
      "execution_count": null,
      "metadata": {
        "id": "OCpWShssmEP6"
      },
      "outputs": [],
      "source": [
        "!pip install llama-index"
      ]
    },
    {
      "cell_type": "code",
      "source": [
        "import os\n",
        "import openai"
      ],
      "metadata": {
        "id": "QVjINoqbmS0S"
      },
      "execution_count": null,
      "outputs": []
    },
    {
      "cell_type": "code",
      "source": [
        "import os\n",
        "from google.colab import userdata\n",
        "\n",
        "os.environ[\"OPENAI_API_KEY\"] = userdata.get('OPENAI_API_KEY')\n",
        "openai.api_key = os.environ[\"OPENAI_API_KEY\"]"
      ],
      "metadata": {
        "id": "IPJhhO9Ameey"
      },
      "execution_count": null,
      "outputs": []
    },
    {
      "cell_type": "code",
      "source": [
        "import logging\n",
        "import sys\n",
        "\n",
        "logging.basicConfig(stream=sys.stdout, level=logging.ERROR, force=True)\n",
        "logging.getLogger().addHandler(logging.StreamHandler(stream=sys.stdout))"
      ],
      "metadata": {
        "id": "Wy1kO4FOmh-3"
      },
      "execution_count": null,
      "outputs": []
    },
    {
      "cell_type": "code",
      "source": [
        "from IPython.display import Markdown, display"
      ],
      "metadata": {
        "id": "Eza5ZinYmkft"
      },
      "execution_count": null,
      "outputs": []
    },
    {
      "cell_type": "markdown",
      "source": [
        "## Create Database Schema"
      ],
      "metadata": {
        "id": "1IlCq-EEmmpW"
      }
    },
    {
      "cell_type": "markdown",
      "source": [
        "Create our database using SQLAlchemy"
      ],
      "metadata": {
        "id": "lcKquE0gHlHc"
      }
    },
    {
      "cell_type": "code",
      "source": [
        "from sqlalchemy import (\n",
        "    create_engine,\n",
        "    MetaData,\n",
        "    Table,\n",
        "    Column,\n",
        "    String,\n",
        "    Integer,\n",
        "    select,\n",
        "    ForeignKey,\n",
        ")"
      ],
      "metadata": {
        "id": "5VQKKlhRyH-e"
      },
      "execution_count": null,
      "outputs": []
    },
    {
      "cell_type": "code",
      "source": [
        "engine = create_engine(\"sqlite:///:memory:\")\n",
        "metadata_obj = MetaData()"
      ],
      "metadata": {
        "id": "ArBP7CBUyIrH"
      },
      "execution_count": null,
      "outputs": []
    },
    {
      "cell_type": "markdown",
      "source": [
        "One table will store population details about cities and the other will store the mayor for each city."
      ],
      "metadata": {
        "id": "D1EwcnooIFBF"
      }
    },
    {
      "cell_type": "code",
      "source": [
        "# create city stats SQL table\n",
        "table_name = \"city_stats\"\n",
        "city_stats_table = Table(\n",
        "    table_name,\n",
        "    metadata_obj,\n",
        "    Column(\"city_id\", Integer, primary_key=True),\n",
        "    Column(\"city_name\", String(32)),\n",
        "    Column(\"population\", Integer),\n",
        "    Column(\"country\", String(32), nullable=False),\n",
        ")\n",
        "\n",
        "# create city mayor SQL table\n",
        "table_name = \"city_mayor\"\n",
        "city_mayor_table = Table(\n",
        "    table_name,\n",
        "    metadata_obj,\n",
        "    Column(\"mayor_id\", Integer, primary_key=True),\n",
        "    Column(\"city_id\", Integer, ForeignKey('city_stats.city_id')),\n",
        "    Column(\"mayor_name\", String(64), nullable=False),\n",
        ")\n",
        "metadata_obj.create_all(engine)"
      ],
      "metadata": {
        "id": "o6xI5H7JyMBr"
      },
      "execution_count": null,
      "outputs": []
    },
    {
      "cell_type": "markdown",
      "source": [
        "## Define SQL Database"
      ],
      "metadata": {
        "id": "2TFcR2TByTSp"
      }
    },
    {
      "cell_type": "code",
      "source": [
        "from llama_index import SQLDatabase, ServiceContext\n",
        "from llama_index.llms import OpenAI\n",
        "from sqlalchemy import insert"
      ],
      "metadata": {
        "id": "Bqf7PTosyZ4W"
      },
      "execution_count": null,
      "outputs": []
    },
    {
      "cell_type": "code",
      "source": [
        "llm = OpenAI(temperature=0.1, model=\"gpt-3.5-turbo\")\n",
        "service_context = ServiceContext.from_defaults(llm=llm)"
      ],
      "metadata": {
        "id": "ml0xnvfVycF1"
      },
      "execution_count": null,
      "outputs": []
    },
    {
      "cell_type": "code",
      "source": [
        "sql_database = SQLDatabase(engine, include_tables=[\"city_stats\", \"city_mayor\"])"
      ],
      "metadata": {
        "id": "1tB1WmSYyd6h"
      },
      "execution_count": 123,
      "outputs": []
    },
    {
      "cell_type": "markdown",
      "source": [
        "Populate tables with test data."
      ],
      "metadata": {
        "id": "L1O-v-h-Ic99"
      }
    },
    {
      "cell_type": "code",
      "source": [
        "rows = [\n",
        "    {\"city_name\": \"Toronto\", \"population\": 2930000, \"country\": \"Canada\"},\n",
        "    {\"city_name\": \"Tokyo\", \"population\": 13960000, \"country\": \"Japan\"},\n",
        "    {\"city_name\": \"Chicago\", \"population\": 2679000, \"country\": \"United States\"},\n",
        "    {\"city_name\": \"Seoul\", \"population\": 9776000, \"country\": \"South Korea\"},\n",
        "]\n",
        "for row in rows:\n",
        "    stmt = insert(city_stats_table).values(**row)\n",
        "    with engine.begin() as connection:\n",
        "        cursor = connection.execute(stmt)"
      ],
      "metadata": {
        "id": "WTinon2FygEs"
      },
      "execution_count": 124,
      "outputs": []
    },
    {
      "cell_type": "code",
      "source": [
        "rows = [\n",
        "    {\"city_id\": 1, \"mayor_name\": \"Jim Bob\"},\n",
        "    {\"city_id\": 2, \"mayor_name\": \"Mary Smith\"},\n",
        "    {\"city_id\": 3, \"mayor_name\": \"Jimmy Johnson\"},\n",
        "    {\"city_id\": 4, \"mayor_name\": \"Andrew Savala\"},\n",
        "]\n",
        "for row in rows:\n",
        "    stmt = insert(city_mayor_table).values(**row)\n",
        "    with engine.begin() as connection:\n",
        "        cursor = connection.execute(stmt)"
      ],
      "metadata": {
        "id": "hcAA-YgvrYHG"
      },
      "execution_count": 125,
      "outputs": []
    },
    {
      "cell_type": "code",
      "source": [
        "list(sql_database._all_tables)"
      ],
      "metadata": {
        "colab": {
          "base_uri": "https://localhost:8080/"
        },
        "id": "TNPNC8GlCGdN",
        "outputId": "3423ebfc-5f1b-4f40-d3bd-bae0c1b97d79"
      },
      "execution_count": 126,
      "outputs": [
        {
          "output_type": "execute_result",
          "data": {
            "text/plain": [
              "['city_stats', 'city_mayor']"
            ]
          },
          "metadata": {},
          "execution_count": 126
        }
      ]
    },
    {
      "cell_type": "markdown",
      "source": [
        "## Query Index"
      ],
      "metadata": {
        "id": "4-9whrIUyt2V"
      }
    },
    {
      "cell_type": "markdown",
      "source": [
        "Perform test queries to make sure we can retrive our test data."
      ],
      "metadata": {
        "id": "0FTQoh1sIqPv"
      }
    },
    {
      "cell_type": "code",
      "source": [
        "from sqlalchemy import text"
      ],
      "metadata": {
        "id": "D4rVa-x6D4UO"
      },
      "execution_count": 127,
      "outputs": []
    },
    {
      "cell_type": "code",
      "source": [
        "with engine.connect() as con:\n",
        "    rows = con.execute(text(\"SELECT * from city_stats\"))\n",
        "    for row in rows:\n",
        "        print(row)"
      ],
      "metadata": {
        "colab": {
          "base_uri": "https://localhost:8080/"
        },
        "id": "8NN30xeryw3m",
        "outputId": "a5914287-bb0f-470d-f011-32e4e2dd8f2f"
      },
      "execution_count": 128,
      "outputs": [
        {
          "output_type": "stream",
          "name": "stdout",
          "text": [
            "(1, 'Toronto', 2930000, 'Canada')\n",
            "(2, 'Tokyo', 13960000, 'Japan')\n",
            "(3, 'Chicago', 2679000, 'United States')\n",
            "(4, 'Seoul', 9776000, 'South Korea')\n",
            "(5, 'Toronto', 2930000, 'Canada')\n",
            "(6, 'Tokyo', 13960000, 'Japan')\n",
            "(7, 'Chicago', 2679000, 'United States')\n",
            "(8, 'Seoul', 9776000, 'South Korea')\n"
          ]
        }
      ]
    },
    {
      "cell_type": "code",
      "source": [
        "with engine.connect() as con:\n",
        "    rows = con.execute(text(\"SELECT * from city_mayor\"))\n",
        "    for row in rows:\n",
        "        print(row)"
      ],
      "metadata": {
        "colab": {
          "base_uri": "https://localhost:8080/"
        },
        "id": "yACWUi4tD6ae",
        "outputId": "2b8e7e55-df6b-4f44-ce25-419480ee83e9"
      },
      "execution_count": 129,
      "outputs": [
        {
          "output_type": "stream",
          "name": "stdout",
          "text": [
            "(1, 1, 'Jim Bob')\n",
            "(2, 2, 'Mary Smith')\n",
            "(3, 3, 'Jimmy Johnson')\n",
            "(4, 4, 'Andrew Savala')\n",
            "(5, 1, 'Jim Bob')\n",
            "(6, 2, 'Mary Smith')\n",
            "(7, 3, 'Jimmy Johnson')\n",
            "(8, 4, 'Andrew Savala')\n"
          ]
        }
      ]
    },
    {
      "cell_type": "markdown",
      "source": [
        "## Part 1: Text-to-SQL Query Engine"
      ],
      "metadata": {
        "id": "73v1orUay2_E"
      }
    },
    {
      "cell_type": "markdown",
      "source": [
        "Once we have constructed our SQL database, we can use the NLSQLTableQueryEngine to construct natural language queries that are synthesized into SQL queries.\n",
        "\n",
        "Note that we need to specify the tables we want to use with this query engine. If we don’t the query engine will pull all the schema context, which could overflow the context window of the LLM."
      ],
      "metadata": {
        "id": "PsbDQ07rzn9h"
      }
    },
    {
      "cell_type": "code",
      "source": [
        "from llama_index.indices.struct_store.sql_query import NLSQLTableQueryEngine\n",
        "\n",
        "query_engine = NLSQLTableQueryEngine(\n",
        "    sql_database=sql_database,\n",
        "    tables=[\"city_stats\", \"city_mayor\"],\n",
        ")"
      ],
      "metadata": {
        "id": "RnRC2j3xz53a"
      },
      "execution_count": 130,
      "outputs": []
    },
    {
      "cell_type": "code",
      "source": [
        "query_str = \"Which city has the highest population?\"\n",
        "response = query_engine.query(query_str)\n",
        "display(Markdown(f\"<b>{response}</b>\"))"
      ],
      "metadata": {
        "colab": {
          "base_uri": "https://localhost:8080/",
          "height": 46
        },
        "id": "Mf8ZiIkhzCsV",
        "outputId": "1422ad15-74d5-4894-e164-c60629a0d765"
      },
      "execution_count": 131,
      "outputs": [
        {
          "output_type": "display_data",
          "data": {
            "text/plain": [
              "<IPython.core.display.Markdown object>"
            ],
            "text/markdown": "<b>The city with the highest population is Tokyo, with a population of 13,960,000.</b>"
          },
          "metadata": {}
        }
      ]
    },
    {
      "cell_type": "code",
      "source": [
        "logging.basicConfig(stream=sys.stdout, level=logging.DEBUG, force=True)\n",
        "query_str = \"Which cities have a mayor who's name contains the letter A?  Include the city and mayor name\"\n",
        "response = query_engine.query(query_str)\n",
        "display(Markdown(f\"<b>{response}</b>\"))"
      ],
      "metadata": {
        "colab": {
          "base_uri": "https://localhost:8080/",
          "height": 1000
        },
        "id": "3doJz6PE0G4W",
        "outputId": "842192c9-0293-41c6-a300-d0574b624c8f"
      },
      "execution_count": 132,
      "outputs": [
        {
          "output_type": "stream",
          "name": "stdout",
          "text": [
            "INFO:llama_index.indices.struct_store.sql_retriever:> Table desc str: Table 'city_stats' has columns: city_id (INTEGER), city_name (VARCHAR(32)), population (INTEGER), country (VARCHAR(32)), and foreign keys: .\n",
            "\n",
            "Table 'city_mayor' has columns: mayor_id (INTEGER), city_id (INTEGER), mayor_name (VARCHAR(64)), and foreign keys: ['city_id'] -> city_stats.['city_id'].\n",
            "DEBUG:openai._base_client:Request options: {'method': 'post', 'url': '/chat/completions', 'files': None, 'json_data': {'messages': [{'role': <MessageRole.USER: 'user'>, 'content': \"Given an input question, first create a syntactically correct sqlite query to run, then look at the results of the query and return the answer. You can order the results by a relevant column to return the most interesting examples in the database.\\n\\nNever query for all the columns from a specific table, only ask for a few relevant columns given the question.\\n\\nPay attention to use only the column names that you can see in the schema description. Be careful to not query for columns that do not exist. Pay attention to which column is in which table. Also, qualify column names with the table name when needed. You are required to use the following format, each taking one line:\\n\\nQuestion: Question here\\nSQLQuery: SQL Query to run\\nSQLResult: Result of the SQLQuery\\nAnswer: Final answer here\\n\\nOnly use tables listed below.\\nTable 'city_stats' has columns: city_id (INTEGER), city_name (VARCHAR(32)), population (INTEGER), country (VARCHAR(32)), and foreign keys: .\\n\\nTable 'city_mayor' has columns: mayor_id (INTEGER), city_id (INTEGER), mayor_name (VARCHAR(64)), and foreign keys: ['city_id'] -> city_stats.['city_id'].\\n\\nQuestion: Which cities have a mayor who's name contains the letter A?  Include the city and mayor name\\nSQLQuery: \"}], 'model': 'gpt-3.5-turbo', 'stream': False, 'temperature': 0.1}}\n",
            "DEBUG:httpcore.connection:close.started\n",
            "DEBUG:httpcore.connection:close.complete\n",
            "DEBUG:httpcore.connection:connect_tcp.started host='api.openai.com' port=443 local_address=None timeout=60.0 socket_options=None\n",
            "DEBUG:httpcore.connection:connect_tcp.complete return_value=<httpcore._backends.sync.SyncStream object at 0x7d502be89570>\n",
            "DEBUG:httpcore.connection:start_tls.started ssl_context=<ssl.SSLContext object at 0x7d5034531f40> server_hostname='api.openai.com' timeout=60.0\n",
            "DEBUG:httpcore.connection:start_tls.complete return_value=<httpcore._backends.sync.SyncStream object at 0x7d502be89330>\n",
            "DEBUG:httpcore.http11:send_request_headers.started request=<Request [b'POST']>\n",
            "DEBUG:httpcore.http11:send_request_headers.complete\n",
            "DEBUG:httpcore.http11:send_request_body.started request=<Request [b'POST']>\n",
            "DEBUG:httpcore.http11:send_request_body.complete\n",
            "DEBUG:httpcore.http11:receive_response_headers.started request=<Request [b'POST']>\n",
            "DEBUG:httpcore.http11:receive_response_headers.complete return_value=(b'HTTP/1.1', 200, b'OK', [(b'Date', b'Wed, 06 Dec 2023 22:21:22 GMT'), (b'Content-Type', b'application/json'), (b'Transfer-Encoding', b'chunked'), (b'Connection', b'keep-alive'), (b'access-control-allow-origin', b'*'), (b'Cache-Control', b'no-cache, must-revalidate'), (b'openai-model', b'gpt-3.5-turbo-0613'), (b'openai-organization', b'user-vnoy76paarbktt519cuphchn'), (b'openai-processing-ms', b'4811'), (b'openai-version', b'2020-10-01'), (b'strict-transport-security', b'max-age=15724800; includeSubDomains'), (b'x-ratelimit-limit-requests', b'10000'), (b'x-ratelimit-limit-tokens', b'60000'), (b'x-ratelimit-limit-tokens_usage_based', b'60000'), (b'x-ratelimit-remaining-requests', b'9999'), (b'x-ratelimit-remaining-tokens', b'59674'), (b'x-ratelimit-remaining-tokens_usage_based', b'59674'), (b'x-ratelimit-reset-requests', b'8.64s'), (b'x-ratelimit-reset-tokens', b'326ms'), (b'x-ratelimit-reset-tokens_usage_based', b'326ms'), (b'x-request-id', b'332a3ea37104a0d76212df931c14d427'), (b'CF-Cache-Status', b'DYNAMIC'), (b'Server', b'cloudflare'), (b'CF-RAY', b'8317ebc8383840ff-TPE'), (b'Content-Encoding', b'gzip'), (b'alt-svc', b'h3=\":443\"; ma=86400')])\n",
            "INFO:httpx:HTTP Request: POST https://api.openai.com/v1/chat/completions \"HTTP/1.1 200 OK\"\n",
            "DEBUG:httpcore.http11:receive_response_body.started request=<Request [b'POST']>\n",
            "DEBUG:httpcore.http11:receive_response_body.complete\n",
            "DEBUG:httpcore.http11:response_closed.started\n",
            "DEBUG:httpcore.http11:response_closed.complete\n",
            "DEBUG:openai._base_client:HTTP Request: POST https://api.openai.com/v1/chat/completions \"200 OK\"\n",
            "DEBUG:llama_index.llm_predictor.base:SELECT city_name, mayor_name\n",
            "FROM city_stats\n",
            "JOIN city_mayor ON city_stats.city_id = city_mayor.city_id\n",
            "WHERE mayor_name LIKE '%A%'\n",
            "SQLResult: \n",
            "city_name | mayor_name\n",
            "-----------------------\n",
            "City1     | Mayor1\n",
            "City2     | Mayor2\n",
            "City3     | Mayor3\n",
            "...\n",
            "Answer: The cities that have a mayor whose name contains the letter A are City1, City2, City3, ...\n",
            "DEBUG:llama_index.indices.struct_store.sql_retriever:> Predicted SQL query: SELECT city_name, mayor_name\n",
            "FROM city_stats\n",
            "JOIN city_mayor ON city_stats.city_id = city_mayor.city_id\n",
            "WHERE mayor_name LIKE '%A%'\n",
            "DEBUG:openai._base_client:Request options: {'method': 'post', 'url': '/chat/completions', 'files': None, 'json_data': {'messages': [{'role': <MessageRole.USER: 'user'>, 'content': \"Given an input question, synthesize a response from the query results.\\nQuery: Which cities have a mayor who's name contains the letter A?  Include the city and mayor name\\nSQL: SELECT city_name, mayor_name\\nFROM city_stats\\nJOIN city_mayor ON city_stats.city_id = city_mayor.city_id\\nWHERE mayor_name LIKE '%A%'\\nSQL Response: [('Tokyo', 'Mary Smith'), ('Seoul', 'Andrew Savala'), ('Tokyo', 'Mary Smith'), ('Seoul', 'Andrew Savala')]\\nResponse: \"}], 'model': 'gpt-3.5-turbo', 'stream': False, 'temperature': 0.1}}\n",
            "DEBUG:httpcore.connection:close.started\n",
            "DEBUG:httpcore.connection:close.complete\n",
            "DEBUG:httpcore.connection:connect_tcp.started host='api.openai.com' port=443 local_address=None timeout=60.0 socket_options=None\n",
            "DEBUG:httpcore.connection:connect_tcp.complete return_value=<httpcore._backends.sync.SyncStream object at 0x7d502be2d870>\n",
            "DEBUG:httpcore.connection:start_tls.started ssl_context=<ssl.SSLContext object at 0x7d503453ac40> server_hostname='api.openai.com' timeout=60.0\n",
            "DEBUG:httpcore.connection:start_tls.complete return_value=<httpcore._backends.sync.SyncStream object at 0x7d502be2d960>\n",
            "DEBUG:httpcore.http11:send_request_headers.started request=<Request [b'POST']>\n",
            "DEBUG:httpcore.http11:send_request_headers.complete\n",
            "DEBUG:httpcore.http11:send_request_body.started request=<Request [b'POST']>\n",
            "DEBUG:httpcore.http11:send_request_body.complete\n",
            "DEBUG:httpcore.http11:receive_response_headers.started request=<Request [b'POST']>\n",
            "DEBUG:httpcore.http11:receive_response_headers.complete return_value=(b'HTTP/1.1', 200, b'OK', [(b'Date', b'Wed, 06 Dec 2023 22:21:25 GMT'), (b'Content-Type', b'application/json'), (b'Transfer-Encoding', b'chunked'), (b'Connection', b'keep-alive'), (b'access-control-allow-origin', b'*'), (b'Cache-Control', b'no-cache, must-revalidate'), (b'openai-model', b'gpt-3.5-turbo-0613'), (b'openai-organization', b'user-vnoy76paarbktt519cuphchn'), (b'openai-processing-ms', b'2038'), (b'openai-version', b'2020-10-01'), (b'strict-transport-security', b'max-age=15724800; includeSubDomains'), (b'x-ratelimit-limit-requests', b'10000'), (b'x-ratelimit-limit-tokens', b'60000'), (b'x-ratelimit-limit-tokens_usage_based', b'60000'), (b'x-ratelimit-remaining-requests', b'9998'), (b'x-ratelimit-remaining-tokens', b'59873'), (b'x-ratelimit-remaining-tokens_usage_based', b'59873'), (b'x-ratelimit-reset-requests', b'12.051s'), (b'x-ratelimit-reset-tokens', b'127ms'), (b'x-ratelimit-reset-tokens_usage_based', b'127ms'), (b'x-request-id', b'7c4fbab096baf61f326e4cc212992ef5'), (b'CF-Cache-Status', b'DYNAMIC'), (b'Server', b'cloudflare'), (b'CF-RAY', b'8317ebe8eff00750-TPE'), (b'Content-Encoding', b'gzip'), (b'alt-svc', b'h3=\":443\"; ma=86400')])\n",
            "INFO:httpx:HTTP Request: POST https://api.openai.com/v1/chat/completions \"HTTP/1.1 200 OK\"\n",
            "DEBUG:httpcore.http11:receive_response_body.started request=<Request [b'POST']>\n",
            "DEBUG:httpcore.http11:receive_response_body.complete\n",
            "DEBUG:httpcore.http11:response_closed.started\n",
            "DEBUG:httpcore.http11:response_closed.complete\n",
            "DEBUG:openai._base_client:HTTP Request: POST https://api.openai.com/v1/chat/completions \"200 OK\"\n",
            "DEBUG:llama_index.llm_predictor.base:The cities with mayors whose names contain the letter A are Tokyo (Mayor: Mary Smith) and Seoul (Mayor: Andrew Savala).\n"
          ]
        },
        {
          "output_type": "display_data",
          "data": {
            "text/plain": [
              "<IPython.core.display.Markdown object>"
            ],
            "text/markdown": "<b>The cities with mayors whose names contain the letter A are Tokyo (Mayor: Mary Smith) and Seoul (Mayor: Andrew Savala).</b>"
          },
          "metadata": {}
        }
      ]
    },
    {
      "cell_type": "markdown",
      "source": [
        "This query engine should be used in any case where you can specify the tables you want to query over beforehand, or the total size of all the table schema plus the rest of the prompt fits your context window."
      ],
      "metadata": {
        "id": "DoUeKM8HzrsV"
      }
    },
    {
      "cell_type": "markdown",
      "source": [
        "## Part 2: Query-Time Retrieval of Tables for Text-to-SQL"
      ],
      "metadata": {
        "id": "s3BCV1KUzkd8"
      }
    },
    {
      "cell_type": "markdown",
      "source": [
        "If we don’t know ahead of time which table we would like to use, and the total size of the table schema overflows your context window size, we should store the table schema in an index so that during query time we can retrieve the right schema.\n",
        "\n",
        "The way we can do this is using the SQLTableNodeMapping object, which takes in a SQLDatabase and produces a Node object for each SQLTableSchema object passed into the ObjectIndex constructor."
      ],
      "metadata": {
        "id": "S4obLNUYzwnq"
      }
    },
    {
      "cell_type": "code",
      "source": [
        "logging.basicConfig(stream=sys.stdout, level=logging.ERROR, force=True)\n",
        "from llama_index.indices.struct_store.sql_query import (\n",
        "    SQLTableRetrieverQueryEngine,\n",
        ")\n",
        "from llama_index.objects import (\n",
        "    SQLTableNodeMapping,\n",
        "    ObjectIndex,\n",
        "    SQLTableSchema,\n",
        ")\n",
        "from llama_index import VectorStoreIndex\n",
        "\n",
        "# manually set context text\n",
        "table_node_mapping = SQLTableNodeMapping(sql_database)\n",
        "table_schema_objs = [\n",
        "    (SQLTableSchema(table_name=\"city_stats\", context_str=\"This table gives information regarding the population and country of a given city.\")),\n",
        "    (SQLTableSchema(table_name=\"city_mayor\", context_str=\"This table gives information regarding the mayor of each city.\")),\n",
        "]\n",
        "\n",
        "obj_index = ObjectIndex.from_objects(\n",
        "    table_schema_objs,\n",
        "    table_node_mapping,\n",
        "    VectorStoreIndex,\n",
        ")\n",
        "query_engine = SQLTableRetrieverQueryEngine(\n",
        "    sql_database, obj_index.as_retriever(similarity_top_k=1)\n",
        ")"
      ],
      "metadata": {
        "id": "ogB_gxf21Blb"
      },
      "execution_count": 133,
      "outputs": []
    },
    {
      "cell_type": "code",
      "source": [
        "response = query_engine.query(\"Which city has the highest population?\")\n",
        "display(Markdown(f\"<b>{response}</b>\"))"
      ],
      "metadata": {
        "colab": {
          "base_uri": "https://localhost:8080/",
          "height": 46
        },
        "id": "PmRrOxK51DgG",
        "outputId": "a662cfe8-9f36-43c6-f393-6b1a73fa1449"
      },
      "execution_count": 134,
      "outputs": [
        {
          "output_type": "display_data",
          "data": {
            "text/plain": [
              "<IPython.core.display.Markdown object>"
            ],
            "text/markdown": "<b>The city with the highest population is Tokyo.</b>"
          },
          "metadata": {}
        }
      ]
    },
    {
      "cell_type": "code",
      "source": [
        "response = query_engine.query(\"Which cities have a mayor who's name contains the letter A.  Include the cities and the full mayor's name?\")\n",
        "display(Markdown(f\"<b>{response}</b>\"))"
      ],
      "metadata": {
        "colab": {
          "base_uri": "https://localhost:8080/",
          "height": 46
        },
        "id": "AU8V-cIu2eKN",
        "outputId": "5d67b79e-f4a5-416b-997b-4338a28012e8"
      },
      "execution_count": 135,
      "outputs": [
        {
          "output_type": "display_data",
          "data": {
            "text/plain": [
              "<IPython.core.display.Markdown object>"
            ],
            "text/markdown": "<b>The cities that have a mayor whose name contains the letter A are Seoul and Tokyo. The mayors' names are Andrew Savala and Mary Smith respectively.</b>"
          },
          "metadata": {}
        }
      ]
    },
    {
      "cell_type": "markdown",
      "source": [
        "Lets try combining results from both tables"
      ],
      "metadata": {
        "id": "_1z0ro1t7Iqb"
      }
    },
    {
      "cell_type": "code",
      "source": [
        "response = query_engine.query(\"Which cities have a population greater than 3 million and mayor who's name contains the letter A.  Include the cities and the full mayor's name?\")\n",
        "display(Markdown(f\"<b>{response}</b>\"))"
      ],
      "metadata": {
        "colab": {
          "base_uri": "https://localhost:8080/",
          "height": 64
        },
        "id": "SC4Nc0Lu7MQa",
        "outputId": "050dc857-7f2b-41b5-8489-c264e3bdca63"
      },
      "execution_count": 136,
      "outputs": [
        {
          "output_type": "display_data",
          "data": {
            "text/plain": [
              "<IPython.core.display.Markdown object>"
            ],
            "text/markdown": "<b>The cities with a population greater than 3 million and a mayor whose name contains the letter A are Seoul with mayor Andrew Savala and Tokyo with mayor Mary Smith.</b>"
          },
          "metadata": {}
        }
      ]
    }
  ]
}